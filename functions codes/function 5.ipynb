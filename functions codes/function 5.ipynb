{
 "cells": [
  {
   "cell_type": "code",
   "execution_count": 4,
   "id": "7c57d663-6bc9-4755-8d56-a26b0e641648",
   "metadata": {},
   "outputs": [],
   "source": [
    "import numpy as np\n",
    "import matplotlib.pyplot as plt\n",
    "from sklearn.gaussian_process import GaussianProcessRegressor\n",
    "from statistics import NormalDist\n",
    "from scipy.stats import norm\n",
    "import scipy.special as sp"
   ]
  },
  {
   "cell_type": "markdown",
   "id": "74c92bf1-4902-4cfe-9ec7-45310171b98f",
   "metadata": {},
   "source": [
    "# Downloading the data:"
   ]
  },
  {
   "cell_type": "code",
   "execution_count": 5,
   "id": "3fbed791-985d-47d9-87b6-ccb9f0af7da0",
   "metadata": {},
   "outputs": [],
   "source": [
    "X = np.load(r\"C:\\Users\\mo13\\OneDrive\\Documents\\ML course\\project\\Mod-13-BO-Capstone-Session\\Mod-13-BO-Capstone-Session\\initial_data\\function_5\\initial_inputs.npy\")\n",
    "y = np.load(r\"C:\\Users\\mo13\\OneDrive\\Documents\\ML course\\project\\Mod-13-BO-Capstone-Session\\Mod-13-BO-Capstone-Session\\initial_data\\function_5\\initial_outputs.npy\")"
   ]
  },
  {
   "cell_type": "markdown",
   "id": "34a5522a-04a6-4f1a-b76b-494bea3f5242",
   "metadata": {},
   "source": [
    "Here I'm appending the inputs resulted from the acquisition function below, so everytime I get an query, I add it here to the input \"X\""
   ]
  },
  {
   "cell_type": "code",
   "execution_count": 6,
   "id": "c1581771-da79-4a01-a4e4-a6f1f376b35b",
   "metadata": {},
   "outputs": [],
   "source": [
    "X = np.append(X,[[0, 0.693878, 0.999999, 0.999999], [0, 0, 0, 0], [0, 0, 0, 0], \n",
    "                [0.999999, 0.999999, 0.999999, 0.999999]], axis=0)\n"
   ]
  },
  {
   "cell_type": "markdown",
   "id": "e93c7753-14fd-49dd-b682-9c294f9c53ae",
   "metadata": {},
   "source": [
    "Here I'm appending outputs I get from the feedback, so evertime I get the output from the feedback, I add it to the output \"y\""
   ]
  },
  {
   "cell_type": "code",
   "execution_count": 7,
   "id": "10446f10-03a3-4456-95c9-541e7fdddfed",
   "metadata": {},
   "outputs": [],
   "source": [
    "y = np.append(y,[2162.457311, 4647.76325, 163.1225, 8662.405001], axis=0)"
   ]
  },
  {
   "cell_type": "markdown",
   "id": "cdc4cfc1-90a1-4b33-aea9-e1caa4f3bde2",
   "metadata": {},
   "source": [
    "# Fitting in Guassian Distribution"
   ]
  },
  {
   "cell_type": "code",
   "execution_count": 8,
   "id": "5fffbfd8-bef3-4e39-a32c-1b24a4e08999",
   "metadata": {},
   "outputs": [],
   "source": [
    "gpr = GaussianProcessRegressor(kernel=None)\n",
    "gpr.fit(X, y);"
   ]
  },
  {
   "cell_type": "markdown",
   "id": "5b89b87a-1688-4df7-992c-b79c4b078e73",
   "metadata": {},
   "source": [
    "# Creating a grid for grid search"
   ]
  },
  {
   "cell_type": "code",
   "execution_count": 9,
   "id": "d3d793df-b65e-41cb-a999-0fb0379b778d",
   "metadata": {},
   "outputs": [],
   "source": [
    "x1 = np.linspace(0, 1, 30)"
   ]
  },
  {
   "cell_type": "code",
   "execution_count": 10,
   "id": "262db646-5001-46a2-b185-08237c57c643",
   "metadata": {},
   "outputs": [],
   "source": [
    "import itertools as it\n",
    "dim = 4\n",
    "X_grid = np.fromiter(it.chain(*it.product(x1, repeat=dim)), dtype=float).reshape(-1,dim)\n"
   ]
  },
  {
   "cell_type": "markdown",
   "id": "8c5b82ca-9b63-40ba-9576-80f10b1091a2",
   "metadata": {},
   "source": [
    "Implementing the grid search:"
   ]
  },
  {
   "cell_type": "code",
   "execution_count": 11,
   "id": "df239086-57b4-4575-8f00-c0a3a15fe9a0",
   "metadata": {},
   "outputs": [],
   "source": [
    "X_grid = np.array(X_grid)\n",
    "mean, std = gpr.predict(X_grid, return_std = True)\n",
    "\n",
    "#####################################################################################################\n",
    "#Below is my previous approach where I used the probability improvement method for the Acquisition Function (you can ignor it)\n",
    "#ucb = mean + 1.96 * std\n",
    "#acquisition_function = []\n",
    "#eta=0.1\n",
    "#mx = max([2162.457311, 4647])\n",
    "#for k in range(len(X_grid)):\n",
    " #   acquisition_function.append(1 - NormalDist(mu = mean[k], sigma = std[k]).cdf(mx + eta))\n",
    "  #  if  mean[k] > mx:\n",
    "   #     mx = mean[k]\n",
    "#acquisition_function = np.array(acquisition_function)"
   ]
  },
  {
   "cell_type": "markdown",
   "id": "43ade106-ea4c-4685-a2f5-6fe3c91d4a4f",
   "metadata": {},
   "source": [
    "# Applying the \"Analytic LogEI\""
   ]
  },
  {
   "cell_type": "markdown",
   "id": "3466a53e-cfc3-4cef-beb4-9d10190329ea",
   "metadata": {},
   "source": [
    "I have found this approach in \"Unexpected Improvements to Expected Improvement for Bayesian Optimization\" article (expalined in README file)"
   ]
  },
  {
   "cell_type": "markdown",
   "id": "3a46daed-2fbb-48e4-806d-490d5e3ab50a",
   "metadata": {},
   "source": [
    "Now let's define log1mexp which is $$log( 1 - exp(x) )$$"
   ]
  },
  {
   "cell_type": "code",
   "execution_count": 12,
   "id": "d30017eb-e065-493e-b237-11f8b07048b3",
   "metadata": {},
   "outputs": [],
   "source": [
    "def log1mexp(x):\n",
    "    return np.log(1-np.exp(x))"
   ]
  },
  {
   "cell_type": "markdown",
   "id": "239cf6c4-80de-4204-9f4b-9e369bda5ed8",
   "metadata": {},
   "source": [
    "$log( 1 - exp(x) )$ is used in the acquistion function later"
   ]
  },
  {
   "cell_type": "markdown",
   "id": "ac0d02ab-73a5-4842-8012-95dabb89c952",
   "metadata": {},
   "source": [
    "Recall from README file: "
   ]
  },
  {
   "cell_type": "markdown",
   "id": "681a399b-f341-48aa-8d9c-054806f408ff",
   "metadata": {},
   "source": [
    "$$c1 = log(2π) / 2$$\n",
    "$$c2 =  log(π/2) /2$$\n",
    "$$erfcx(x) = exp(x^{2})erfc(x)$$\n",
    "where erfc is the complementary error function.\n",
    "The \"Analytic LogEI\" acquistion function is: $$ LogEIy^{∗}(x) = log_h((µ(x) − y^{∗})/σ(x)) + log(σ(x))$$\n",
    "where $log_h(x)$ is calculated below (based on several conditions mentioned in README file and the article (section 4.1)"
   ]
  },
  {
   "cell_type": "markdown",
   "id": "d93ea722-adfc-448b-9d1e-8e3a5baaf2ff",
   "metadata": {},
   "source": [
    "eta in the code below is ϵ which is chosen to be 0.1. So Let's apply that below:"
   ]
  },
  {
   "cell_type": "code",
   "execution_count": 13,
   "id": "9d0bd3d3-1dc0-4848-97d3-50fd862a71e3",
   "metadata": {},
   "outputs": [
    {
     "data": {
      "text/plain": [
       "array([-34.88535105, -27.39690094, -26.72933864, ..., -26.52679065,\n",
       "       -27.19570979,  -3.50463995])"
      ]
     },
     "execution_count": 13,
     "metadata": {},
     "output_type": "execute_result"
    }
   ],
   "source": [
    "z = (mean - max(y)) / std\n",
    "c1 = np.log(2 * (22/7)) / 2\n",
    "c2 = np.log((22/7) / 2) / 2\n",
    "eta=0.1\n",
    "\n",
    "if (z > -1).any:     # the first condition for log_h \n",
    "    log_h = np.log(norm.pdf(z) + z * norm.cdf(z) + 1e-10)    # I added \"1e-10\" to avoid division by zero\n",
    "\n",
    "elif (-1/np.sqrt(eta) < z).any() and (z <= -1).any():     # the second condition for log_h \n",
    "    log_h = -z**2/(2-c1) + log1mexp(np.log(sp.erfcx(-z/np.sqrt(2)) * abs(z)) + c2)\n",
    "\n",
    "elif (z <= -1 / np.sqrt(eta)).any():      # the third condition for log_h \n",
    "    log_h = -z**2/(2-c1) + 2* np.log(abs(z))\n",
    "\n",
    "acquisition_function = log_h + np.log(std)\n",
    "acquisition_function"
   ]
  },
  {
   "cell_type": "markdown",
   "id": "122b2fdc-d84b-4b99-949c-a9cf482df3ba",
   "metadata": {},
   "source": [
    "# Obtaining the next Query:"
   ]
  },
  {
   "cell_type": "code",
   "execution_count": 14,
   "id": "49fc019b-d9b3-4504-850d-5e96c5cc11a8",
   "metadata": {},
   "outputs": [
    {
     "name": "stdout",
     "output_type": "stream",
     "text": [
      "[1. 1. 1. 1.]\n"
     ]
    }
   ],
   "source": [
    "idx_max = np.argmax(acquisition_function)\n",
    "next_query = X_grid[idx_max]\n",
    "print(np.round(next_query, decimals=6))"
   ]
  }
 ],
 "metadata": {
  "kernelspec": {
   "display_name": "Python 3 (ipykernel)",
   "language": "python",
   "name": "python3"
  },
  "language_info": {
   "codemirror_mode": {
    "name": "ipython",
    "version": 3
   },
   "file_extension": ".py",
   "mimetype": "text/x-python",
   "name": "python",
   "nbconvert_exporter": "python",
   "pygments_lexer": "ipython3",
   "version": "3.11.7"
  }
 },
 "nbformat": 4,
 "nbformat_minor": 5
}
