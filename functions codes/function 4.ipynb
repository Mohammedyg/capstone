{
 "cells": [
  {
   "cell_type": "code",
   "execution_count": 1,
   "id": "7c57d663-6bc9-4755-8d56-a26b0e641648",
   "metadata": {},
   "outputs": [],
   "source": [
    "import numpy as np\n",
    "import matplotlib.pyplot as plt\n",
    "from sklearn.gaussian_process import GaussianProcessRegressor\n",
    "from statistics import NormalDist\n",
    "from scipy.stats import norm\n",
    "import scipy.special as sp"
   ]
  },
  {
   "cell_type": "markdown",
   "id": "49cc094b-3363-4c18-b753-7b31cb84addd",
   "metadata": {},
   "source": [
    "# Downloading the data:"
   ]
  },
  {
   "cell_type": "code",
   "execution_count": 2,
   "id": "3fbed791-985d-47d9-87b6-ccb9f0af7da0",
   "metadata": {},
   "outputs": [],
   "source": [
    "X = np.load(r\"C:\\Users\\mo13\\OneDrive\\Documents\\ML course\\project\\IMP-PCMLAI-capstone-initial_data\\initial_data\\function_4\\initial_inputs.npy\")\n",
    "y = np.load(r\"C:\\Users\\mo13\\OneDrive\\Documents\\ML course\\project\\IMP-PCMLAI-capstone-initial_data\\initial_data\\function_4\\initial_outputs.npy\")"
   ]
  },
  {
   "cell_type": "markdown",
   "id": "66f8043d-f2ed-4e83-9ee5-233e5c3dc541",
   "metadata": {},
   "source": [
    "Here I'm appending the inputs resulted from the acquisition function below, so everytime I get an query, I add it here to the input \"x\""
   ]
  },
  {
   "cell_type": "code",
   "execution_count": 3,
   "id": "3fec74ee-9bc2-487b-a45f-390f81f0185a",
   "metadata": {},
   "outputs": [
    {
     "data": {
      "text/plain": [
       "array([[0.89698105, 0.72562797, 0.17540431, 0.70169437],\n",
       "       [0.8893564 , 0.49958786, 0.53926886, 0.50878344],\n",
       "       [0.25094624, 0.03369313, 0.14538002, 0.49493242],\n",
       "       [0.34696206, 0.0062504 , 0.76056361, 0.61302356],\n",
       "       [0.12487118, 0.12977019, 0.38440048, 0.2870761 ],\n",
       "       [0.80130271, 0.50023109, 0.70664456, 0.19510284],\n",
       "       [0.24770826, 0.06044543, 0.04218635, 0.44132425],\n",
       "       [0.74670224, 0.7570915 , 0.36935306, 0.20656628],\n",
       "       [0.40066503, 0.07257425, 0.88676825, 0.24384229],\n",
       "       [0.6260706 , 0.58675126, 0.43880578, 0.77885769],\n",
       "       [0.95713529, 0.59764438, 0.76611385, 0.77620991],\n",
       "       [0.73281243, 0.14524998, 0.47681272, 0.13336573],\n",
       "       [0.65511548, 0.07239183, 0.68715175, 0.08151656],\n",
       "       [0.21973443, 0.83203134, 0.48286416, 0.08256923],\n",
       "       [0.48859419, 0.2119651 , 0.93917791, 0.37619173],\n",
       "       [0.16713049, 0.87655456, 0.21723954, 0.95980098],\n",
       "       [0.21691119, 0.16608583, 0.24137226, 0.77006248],\n",
       "       [0.38748784, 0.80453226, 0.75179548, 0.72382744],\n",
       "       [0.98562189, 0.66693268, 0.15678328, 0.8565348 ],\n",
       "       [0.03782483, 0.66485335, 0.16198218, 0.25392378],\n",
       "       [0.68348638, 0.9027701 , 0.33541983, 0.99948256],\n",
       "       [0.17034731, 0.75695908, 0.27652049, 0.5312315 ],\n",
       "       [0.85965692, 0.91959232, 0.20613873, 0.09779683],\n",
       "       [0.28213837, 0.50598691, 0.53053084, 0.09630162],\n",
       "       [0.32607578, 0.4723669 , 0.453192  , 0.10588734],\n",
       "       [0.94838936, 0.89451301, 0.85163782, 0.55219629],\n",
       "       [0.66495539, 0.04656628, 0.11677747, 0.79371778],\n",
       "       [0.57776561, 0.42877174, 0.42582587, 0.24900741],\n",
       "       [0.73861301, 0.48210263, 0.70936644, 0.50397001],\n",
       "       [0.8548108 , 0.49396462, 0.73530997, 0.80809201],\n",
       "       [0.22449   , 0.326531  , 0.346939  , 0.387755  ],\n",
       "       [0.413793  , 0.37931   , 0.344828  , 0.413793  ],\n",
       "       [0.344828  , 0.37931   , 0.37931   , 0.413793  ],\n",
       "       [0.344828  , 0.37931   , 0.586207  , 0.448276  ]])"
      ]
     },
     "execution_count": 3,
     "metadata": {},
     "output_type": "execute_result"
    }
   ],
   "source": [
    "X = np.append(X,[[0.22449, 0.326531, 0.346939, 0.387755], [0.413793, 0.37931, 0.344828, 0.413793], [0.344828, 0.37931, 0.37931, 0.413793], \n",
    "                [0.344828, 0.37931, 0.586207, 0.448276]], axis=0)\n",
    "X"
   ]
  },
  {
   "cell_type": "markdown",
   "id": "15aeee76-69d7-40c3-a1c7-5372cc6cabb2",
   "metadata": {},
   "source": [
    "\n",
    "    "
   ]
  },
  {
   "cell_type": "markdown",
   "id": "de2b079a-4745-4e84-9a94-2852bb37d3e7",
   "metadata": {},
   "source": [
    "Here I'm appending outputs I get from the feedback, so evertime I get the output from the feedback, I add it to the output \"y\""
   ]
  },
  {
   "cell_type": "code",
   "execution_count": 4,
   "id": "94c880f6-1995-4e86-8a5c-811c5578cac6",
   "metadata": {},
   "outputs": [],
   "source": [
    "y = np.append(y,[-2.70557175, -1.1971128, 0.418945648, -3.469662475], axis=0)"
   ]
  },
  {
   "cell_type": "markdown",
   "id": "29ed4ee4-2205-4fe8-8a09-b3d54f4917cd",
   "metadata": {},
   "source": [
    "# Fitting in Guassian Distribution"
   ]
  },
  {
   "cell_type": "code",
   "execution_count": 5,
   "id": "5fffbfd8-bef3-4e39-a32c-1b24a4e08999",
   "metadata": {},
   "outputs": [],
   "source": [
    "gpr = GaussianProcessRegressor(kernel=None)\n",
    "gpr.fit(X, y);"
   ]
  },
  {
   "cell_type": "code",
   "execution_count": 6,
   "id": "d3d793df-b65e-41cb-a999-0fb0379b778d",
   "metadata": {},
   "outputs": [],
   "source": [
    "x1 = np.linspace(0, 1, 30)"
   ]
  },
  {
   "cell_type": "markdown",
   "id": "581b4946-4e81-4321-9f2d-3791799163a2",
   "metadata": {},
   "source": [
    "# Creating a grid for grid search"
   ]
  },
  {
   "cell_type": "code",
   "execution_count": 7,
   "id": "262db646-5001-46a2-b185-08237c57c643",
   "metadata": {},
   "outputs": [],
   "source": [
    "import itertools as it\n",
    "dim = 4\n",
    "X_grid = np.fromiter(it.chain(*it.product(x1, repeat=dim)), dtype=float).reshape(-1,dim)\n"
   ]
  },
  {
   "cell_type": "markdown",
   "id": "8e44061f-d7e4-4c8f-9e3f-31c163ab34c8",
   "metadata": {},
   "source": [
    "Implementing the grid search:"
   ]
  },
  {
   "cell_type": "code",
   "execution_count": 8,
   "id": "df239086-57b4-4575-8f00-c0a3a15fe9a0",
   "metadata": {},
   "outputs": [],
   "source": [
    "X_grid = np.array(X_grid)\n",
    "mean, std = gpr.predict(X_grid, return_std = True)\n",
    "\n",
    "#####################################################################################################\n",
    "#Below is my previous approach where I used the probability improvement method for the Acquisition Function (you can ignor it)\n",
    "#ucb = mean + 1.96 * std\n",
    "#acquisition_function = []\n",
    "#eta=0.1\n",
    "#mx = max([-2.70557175, -1.1971128])\n",
    "#for k in range(len(X_grid)):\n",
    " #   acquisition_function.append(1 - NormalDist(mu = mean[k], sigma = std[k]).cdf(mx + eta))\n",
    "  #  if  mean[k] > mx:\n",
    "   #     mx = mean[k]\n",
    "#acquisition_function = np.array(acquisition_function)"
   ]
  },
  {
   "cell_type": "markdown",
   "id": "004ad7ed-ec48-410e-8d76-7624b40190ad",
   "metadata": {},
   "source": [
    "# Applying the \"Analytic LogEI\""
   ]
  },
  {
   "cell_type": "markdown",
   "id": "d4ad6f20-8467-4081-9a87-ad3168ff84d1",
   "metadata": {},
   "source": [
    "I have found this approach in \"Unexpected Improvements to Expected Improvement for Bayesian Optimization\" article (expalined in README file)"
   ]
  },
  {
   "cell_type": "markdown",
   "id": "32b02232-119f-4c8a-a1f4-3821939c1641",
   "metadata": {},
   "source": [
    "Now let's define log1mexp which is $$log( 1 - exp(x) )$$"
   ]
  },
  {
   "cell_type": "code",
   "execution_count": 9,
   "id": "552ec4cd-0813-4227-a9f8-57baad25bdb3",
   "metadata": {},
   "outputs": [],
   "source": [
    "def log1mexp(x):\n",
    "    return np.log(1-np.exp(x))"
   ]
  },
  {
   "cell_type": "markdown",
   "id": "fa05dce5-3d58-4299-bc22-861fa7c7a9a0",
   "metadata": {},
   "source": [
    "$log( 1 - exp(x) )$ is used in the acquistion function later"
   ]
  },
  {
   "cell_type": "markdown",
   "id": "614469a8-8aeb-438e-aaf7-0296b02889f6",
   "metadata": {},
   "source": [
    "Recall from README file: "
   ]
  },
  {
   "cell_type": "markdown",
   "id": "576e1516-d3f6-45d6-9ba7-8569a6f98721",
   "metadata": {},
   "source": [
    "$$c1 = log(2π) / 2$$\n",
    "$$c2 =  log(π/2) /2$$\n",
    "$$erfcx(x) = exp(x^{2})erfc(x)$$\n",
    "where erfc is the complementary error function.\n",
    "The \"Analytic LogEI\" acquistion function is: $$ LogEIy^{∗}(x) = log_h((µ(x) − y^{∗})/σ(x)) + log(σ(x))$$\n",
    "where $log_h(x)$ is calculated below (based on several conditions mentioned in README file and the article (section 4.1)"
   ]
  },
  {
   "cell_type": "markdown",
   "id": "8791f3fd-194b-4abe-8576-ab763913bdda",
   "metadata": {},
   "source": [
    "eta in the code below is ϵ which is chosen to be 0.1. So Let's apply that below:"
   ]
  },
  {
   "cell_type": "code",
   "execution_count": 10,
   "id": "257777ed-9576-472d-a79c-66a9bcc9efee",
   "metadata": {},
   "outputs": [
    {
     "data": {
      "text/plain": [
       "array([-25.32860737, -25.42064389, -25.51446521, ..., -25.30815818,\n",
       "       -25.22656512, -25.14834972])"
      ]
     },
     "execution_count": 10,
     "metadata": {},
     "output_type": "execute_result"
    }
   ],
   "source": [
    "z = (mean - max(y)) / std\n",
    "c1 = np.log(2 * (22/7)) / 2\n",
    "c2 = np.log((22/7) / 2) / 2\n",
    "eta=0.1\n",
    "\n",
    "if (z > -1).any:     # the first condition for log_h \n",
    "    log_h = np.log(norm.pdf(z) + z * norm.cdf(z) + 1e-10)   # I added \"1e-10\" to avoid division by zero\n",
    "\n",
    "elif (-1/np.sqrt(eta) < z).any() and (z <= -1).any():    # the second condition for log_h \n",
    "    log_h = -z**2/(2-c1) + log1mexp(np.log(sp.erfcx(-z/np.sqrt(2)) * abs(z)) + c2)\n",
    "\n",
    "elif (z <= -1 / np.sqrt(eta)).any():  # the third condition for log_h \n",
    "    log_h = -z**2/(2-c1) + 2* np.log(abs(z))\n",
    "\n",
    "acquisition_function = log_h + np.log(std)\n",
    "acquisition_function"
   ]
  },
  {
   "cell_type": "markdown",
   "id": "8eb7832f-9909-40c2-b75a-1d68f86f7a09",
   "metadata": {},
   "source": [
    "# Obtaining the next Query:"
   ]
  },
  {
   "cell_type": "code",
   "execution_count": 11,
   "id": "49fc019b-d9b3-4504-850d-5e96c5cc11a8",
   "metadata": {},
   "outputs": [
    {
     "name": "stdout",
     "output_type": "stream",
     "text": [
      "[0.758621 0.       1.       1.      ]\n"
     ]
    }
   ],
   "source": [
    "idx_max = np.argmax(acquisition_function)\n",
    "next_query = X_grid[idx_max]\n",
    "print(np.round(next_query, decimals=6))"
   ]
  }
 ],
 "metadata": {
  "kernelspec": {
   "display_name": "Python 3 (ipykernel)",
   "language": "python",
   "name": "python3"
  },
  "language_info": {
   "codemirror_mode": {
    "name": "ipython",
    "version": 3
   },
   "file_extension": ".py",
   "mimetype": "text/x-python",
   "name": "python",
   "nbconvert_exporter": "python",
   "pygments_lexer": "ipython3",
   "version": "3.11.7"
  }
 },
 "nbformat": 4,
 "nbformat_minor": 5
}
