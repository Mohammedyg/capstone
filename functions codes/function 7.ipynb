{
 "cells": [
  {
   "cell_type": "code",
   "execution_count": 1,
   "id": "7c57d663-6bc9-4755-8d56-a26b0e641648",
   "metadata": {},
   "outputs": [],
   "source": [
    "import numpy as np\n",
    "import matplotlib.pyplot as plt\n",
    "from sklearn.gaussian_process import GaussianProcessRegressor\n",
    "from statistics import NormalDist\n",
    "from scipy.stats import norm\n",
    "import scipy.special as sp"
   ]
  },
  {
   "cell_type": "markdown",
   "id": "d9989f91-e09e-4cd2-9d64-fc9c7f8c2fba",
   "metadata": {},
   "source": [
    "# Downloading the data:"
   ]
  },
  {
   "cell_type": "code",
   "execution_count": 2,
   "id": "3fbed791-985d-47d9-87b6-ccb9f0af7da0",
   "metadata": {},
   "outputs": [],
   "source": [
    "X = np.load(r\"C:\\Users\\mo13\\OneDrive\\Documents\\ML course\\project\\Mod-13-BO-Capstone-Session\\Mod-13-BO-Capstone-Session\\initial_data\\function_7\\initial_inputs.npy\")\n",
    "y = np.load(r\"C:\\Users\\mo13\\OneDrive\\Documents\\ML course\\project\\Mod-13-BO-Capstone-Session\\Mod-13-BO-Capstone-Session\\initial_data\\function_7\\initial_outputs.npy\")"
   ]
  },
  {
   "cell_type": "markdown",
   "id": "27a5d4a4-1e3a-4096-a4f1-0d7615e792c8",
   "metadata": {},
   "source": [
    "Here I'm appending the inputs resulted from the acquisition function below, so everytime I get an query, I add it here to the input \"x\""
   ]
  },
  {
   "cell_type": "code",
   "execution_count": 3,
   "id": "2bb96895-0186-4542-9fb3-2eb7d1e4dd18",
   "metadata": {
    "scrolled": true
   },
   "outputs": [],
   "source": [
    "X = np.append(X,[[0, 0, 0, 0, 0, 0.555556], [0, 0, 0, 0, 0, 0], [0, 0, 0, 0, 0, 0.714286],\n",
    "                [0, 0.285714, 0.571429, 0, 0.428571, 0.999999]], axis=0)\n"
   ]
  },
  {
   "cell_type": "markdown",
   "id": "83b0db01-90d9-49db-a454-c2405b177765",
   "metadata": {},
   "source": [
    "Here I'm appending outputs I get from the feedback, so evertime I get the output from the feedback, I add it to the output \"y\""
   ]
  },
  {
   "cell_type": "code",
   "execution_count": 4,
   "id": "250cad46-134e-4933-bb41-05cf347c4e79",
   "metadata": {},
   "outputs": [],
   "source": [
    "y = np.append(y,[0.157417827, 0.005089, 0.169681608, 0.592457683], axis=0)\n"
   ]
  },
  {
   "cell_type": "markdown",
   "id": "b9c3adc3-a111-4a6e-bc50-b7125afb5ab6",
   "metadata": {},
   "source": [
    "# Fitting in Guassian Distribution"
   ]
  },
  {
   "cell_type": "code",
   "execution_count": 5,
   "id": "5fffbfd8-bef3-4e39-a32c-1b24a4e08999",
   "metadata": {},
   "outputs": [],
   "source": [
    "gpr = GaussianProcessRegressor(kernel=None)\n",
    "gpr.fit(X, y);"
   ]
  },
  {
   "cell_type": "markdown",
   "id": "afec3e82-d776-45bf-8640-87853f80e12b",
   "metadata": {},
   "source": [
    "# Creating a grid for grid search"
   ]
  },
  {
   "cell_type": "code",
   "execution_count": 6,
   "id": "d3d793df-b65e-41cb-a999-0fb0379b778d",
   "metadata": {},
   "outputs": [],
   "source": [
    "x1 = np.linspace(0, 1, 8)"
   ]
  },
  {
   "cell_type": "code",
   "execution_count": 7,
   "id": "262db646-5001-46a2-b185-08237c57c643",
   "metadata": {},
   "outputs": [],
   "source": [
    "import itertools as it\n",
    "dim = 6\n",
    "X_grid = np.fromiter(it.chain(*it.product(x1, repeat=dim)), dtype=float).reshape(-1,dim)\n"
   ]
  },
  {
   "cell_type": "markdown",
   "id": "a38af0e4-5ed7-4453-8ee2-97b60e42dfa5",
   "metadata": {},
   "source": [
    "Implementing the grid search:"
   ]
  },
  {
   "cell_type": "code",
   "execution_count": 8,
   "id": "df239086-57b4-4575-8f00-c0a3a15fe9a0",
   "metadata": {},
   "outputs": [],
   "source": [
    "X_grid = np.array(X_grid)\n",
    "mean, std = gpr.predict(X_grid, return_std = True)\n",
    "\n",
    "#####################################################################################################\n",
    "#Below is my previous approach where I used the probability improvement method for the Acquisition Function (you can ignor it)\n",
    "#ucb = mean + 1.96 * std\n",
    "#acquisition_function = []\n",
    "#eta=0.1\n",
    "#mx = max([0.157417827, 0.005089])\n",
    "#for k in range(len(X_grid)):\n",
    " #   acquisition_function.append(1 - NormalDist(mu = mean[k], sigma = std[k]).cdf(mx + eta))\n",
    "  #  if  mean[k] > mx:\n",
    "   #     mx = mean[k]\n",
    "#acquisition_function = np.array(acquisition_function)"
   ]
  },
  {
   "cell_type": "markdown",
   "id": "840b3153-f4a9-4e01-a5a1-7a09b0cdfec5",
   "metadata": {},
   "source": [
    "# Applying the \"Analytic LogEI\""
   ]
  },
  {
   "cell_type": "markdown",
   "id": "d6874132-bf36-468f-bb05-9640e04a9137",
   "metadata": {},
   "source": [
    "I have found this approach in \"Unexpected Improvements to Expected Improvement for Bayesian Optimization\" article (expalined in README file)"
   ]
  },
  {
   "cell_type": "markdown",
   "id": "30af7582-7f65-4637-8d6a-c7449c413d8f",
   "metadata": {},
   "source": [
    "Now let's define log1mexp which is $$log( 1 - exp(x) )$$"
   ]
  },
  {
   "cell_type": "code",
   "execution_count": 9,
   "id": "c5b668e0-3791-491a-aa81-cb0367e3b1b8",
   "metadata": {},
   "outputs": [],
   "source": [
    "def log1mexp(x):\n",
    "    return np.log(1-np.exp(x))"
   ]
  },
  {
   "cell_type": "markdown",
   "id": "d90a1f6d-e898-4bc0-b772-e42d31bfbf2e",
   "metadata": {},
   "source": [
    "$log( 1 - exp(x) )$ is used in the acquistion function later"
   ]
  },
  {
   "cell_type": "markdown",
   "id": "5329309c-f83f-4d2c-b45b-4929bb6913a3",
   "metadata": {},
   "source": [
    "Recall from README file: "
   ]
  },
  {
   "cell_type": "markdown",
   "id": "13705b0e-53fb-4588-aee0-34ce455f259c",
   "metadata": {},
   "source": [
    "$$c1 = log(2π) / 2$$\n",
    "$$c2 =  log(π/2) /2$$\n",
    "$$erfcx(x) = exp(x^{2})erfc(x)$$\n",
    "where erfc is the complementary error function.\n",
    "The \"Analytic LogEI\" acquistion function is: $$ LogEIy^{∗}(x) = log_h((µ(x) − y^{∗})/σ(x)) + log(σ(x))$$\n",
    "where $log_h(x)$ is calculated below (based on several conditions mentioned in README file and the article (section 4.1)"
   ]
  },
  {
   "cell_type": "markdown",
   "id": "b9879b16-7f20-49f7-bbd8-5c50e882c3b6",
   "metadata": {},
   "source": [
    "eta in the code below is ϵ which is chosen to be 0.1. So Let's apply that below:"
   ]
  },
  {
   "cell_type": "code",
   "execution_count": 10,
   "id": "526cea47-7e51-4a2b-a507-62eea3dc53c0",
   "metadata": {},
   "outputs": [
    {
     "data": {
      "text/plain": [
       "array([-34.53877635, -27.35845691, -27.35657117, ...,  -4.4769305 ,\n",
       "        -4.9171891 ,  -5.22026378])"
      ]
     },
     "execution_count": 10,
     "metadata": {},
     "output_type": "execute_result"
    }
   ],
   "source": [
    "z = (mean - max(y)) / std\n",
    "c1 = np.log(2 * (22/7)) / 2\n",
    "c2 = np.log((22/7) / 2) / 2\n",
    "eta=0.1\n",
    "\n",
    "if (z > -1).any:      # the first condition for log_h\n",
    "    log_h = np.log(norm.pdf(z) + z * norm.cdf(z) + 1e-10)   # I added \"1e-10\" to avoid division by zero\n",
    "\n",
    "elif (-1/np.sqrt(eta) < z).any() and (z <= -1).any():    # the second condition for log_h\n",
    "    log_h = -z**2/(2-c1) + log1mexp(np.log(sp.erfcx(-z/np.sqrt(2)) * abs(z)) + c2)\n",
    "\n",
    "elif (z <= -1 / np.sqrt(eta)).any():   # the third condition for log_h\n",
    "    log_h = -z**2/(2-c1) + 2* np.log(abs(z))\n",
    "\n",
    "acquisition_function = log_h + np.log(std)\n",
    "acquisition_function"
   ]
  },
  {
   "cell_type": "markdown",
   "id": "000dbd79-674d-433b-b55d-a4d4725f1eb2",
   "metadata": {},
   "source": [
    "# Obtaining the next Query:"
   ]
  },
  {
   "cell_type": "code",
   "execution_count": 11,
   "id": "49fc019b-d9b3-4504-850d-5e96c5cc11a8",
   "metadata": {},
   "outputs": [
    {
     "name": "stdout",
     "output_type": "stream",
     "text": [
      "[1.       1.       0.428571 1.       1.       0.      ]\n"
     ]
    }
   ],
   "source": [
    "idx_max = np.argmax(acquisition_function)\n",
    "next_query = X_grid[idx_max]\n",
    "print(np.round(next_query, decimals=6))"
   ]
  }
 ],
 "metadata": {
  "kernelspec": {
   "display_name": "Python 3 (ipykernel)",
   "language": "python",
   "name": "python3"
  },
  "language_info": {
   "codemirror_mode": {
    "name": "ipython",
    "version": 3
   },
   "file_extension": ".py",
   "mimetype": "text/x-python",
   "name": "python",
   "nbconvert_exporter": "python",
   "pygments_lexer": "ipython3",
   "version": "3.11.7"
  }
 },
 "nbformat": 4,
 "nbformat_minor": 5
}
